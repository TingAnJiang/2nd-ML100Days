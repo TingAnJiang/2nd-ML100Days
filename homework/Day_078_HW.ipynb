{
 "cells": [
  {
   "cell_type": "markdown",
   "metadata": {},
   "source": [
    "## Work\n",
    "1. 請嘗試將 preproc_x 替換成以每筆資料的 min/max 進行標準化至 -1 ~ 1 間，再進行訓練\n",
    "2. 請嘗試將 mlp 疊更深 (e.g 5~10 層)，進行訓練後觀察 learning curve 的走勢\n",
    "3. (optional) 請改用 GPU 進行訓練 (如果你有 GPU 的話)，比較使用 CPU 與 GPU 的訓練速度"
   ]
  },
  {
   "cell_type": "code",
   "execution_count": 1,
   "metadata": {},
   "outputs": [
    {
     "name": "stderr",
     "output_type": "stream",
     "text": [
      "Using TensorFlow backend.\n"
     ]
    }
   ],
   "source": [
    "import os\n",
    "import keras\n",
    "import tensorflow\n",
    "\n",
    "# 請嘗試設定 GPU：os.environ\n",
    "os.environ[\"CUDA_VISIBLE_DEVICES\"] = \"\""
   ]
  },
  {
   "cell_type": "code",
   "execution_count": 2,
   "metadata": {},
   "outputs": [],
   "source": [
    "train, test = keras.datasets.cifar10.load_data()"
   ]
  },
  {
   "cell_type": "code",
   "execution_count": 3,
   "metadata": {},
   "outputs": [],
   "source": [
    "## 資料前處理\n",
    "def preproc_x(x, flatten=True):\n",
    "    x = 2 * (((x - x.min()) / (x.max() - x.min())) - 0.5)\n",
    "    if flatten:\n",
    "        x = x.reshape((len(x), -1))\n",
    "    return x\n",
    "\n",
    "def preproc_y(y, num_classes=10):\n",
    "    if y.shape[-1] == 1:\n",
    "        y = keras.utils.to_categorical(y, num_classes)\n",
    "    return y"
   ]
  },
  {
   "cell_type": "code",
   "execution_count": 4,
   "metadata": {},
   "outputs": [],
   "source": [
    "x_train, y_train = train\n",
    "x_test, y_test = test\n",
    "\n",
    "# Preproc the inputs\n",
    "x_train = preproc_x(x_train)\n",
    "x_test = preproc_x(x_test)\n",
    "\n",
    "# Preprc the outputs\n",
    "y_train = preproc_y(y_train)\n",
    "y_test = preproc_y(y_test)"
   ]
  },
  {
   "cell_type": "code",
   "execution_count": 5,
   "metadata": {},
   "outputs": [
    {
     "name": "stderr",
     "output_type": "stream",
     "text": [
      "WARNING: Logging before flag parsing goes to stderr.\n",
      "W0809 16:55:01.422386 22712 deprecation_wrapper.py:119] From C:\\Users\\an_fl\\Anaconda3\\lib\\site-packages\\keras\\backend\\tensorflow_backend.py:74: The name tf.get_default_graph is deprecated. Please use tf.compat.v1.get_default_graph instead.\n",
      "\n",
      "W0809 16:55:01.494943 22712 deprecation_wrapper.py:119] From C:\\Users\\an_fl\\Anaconda3\\lib\\site-packages\\keras\\backend\\tensorflow_backend.py:517: The name tf.placeholder is deprecated. Please use tf.compat.v1.placeholder instead.\n",
      "\n",
      "W0809 16:55:01.512914 22712 deprecation_wrapper.py:119] From C:\\Users\\an_fl\\Anaconda3\\lib\\site-packages\\keras\\backend\\tensorflow_backend.py:4138: The name tf.random_uniform is deprecated. Please use tf.random.uniform instead.\n",
      "\n"
     ]
    },
    {
     "name": "stdout",
     "output_type": "stream",
     "text": [
      "_________________________________________________________________\n",
      "Layer (type)                 Output Shape              Param #   \n",
      "=================================================================\n",
      "input_1 (InputLayer)         (None, 3072)              0         \n",
      "_________________________________________________________________\n",
      "hidden_layer1 (Dense)        (None, 512)               1573376   \n",
      "_________________________________________________________________\n",
      "hidden_layer2 (Dense)        (None, 256)               131328    \n",
      "_________________________________________________________________\n",
      "hidden_layer3 (Dense)        (None, 128)               32896     \n",
      "_________________________________________________________________\n",
      "hidden_layer4 (Dense)        (None, 64)                8256      \n",
      "_________________________________________________________________\n",
      "hidden_layer5 (Dense)        (None, 32)                2080      \n",
      "_________________________________________________________________\n",
      "hidden_layer6 (Dense)        (None, 16)                528       \n",
      "_________________________________________________________________\n",
      "output (Dense)               (None, 10)                170       \n",
      "=================================================================\n",
      "Total params: 1,748,634\n",
      "Trainable params: 1,748,634\n",
      "Non-trainable params: 0\n",
      "_________________________________________________________________\n"
     ]
    }
   ],
   "source": [
    "def build_mlp(input_shape, output_units=10, num_neurons=[512, 256, 128, 64, 32, 16]):\n",
    "    input_layer = keras.layers.Input(input_shape)\n",
    "    \n",
    "    for i, n_units in enumerate(num_neurons):\n",
    "        if i == 0:\n",
    "            x = keras.layers.Dense(units=n_units, activation=\"relu\", name=\"hidden_layer\"+str(i+1))(input_layer)\n",
    "        else:\n",
    "            x = keras.layers.Dense(units=n_units, activation=\"relu\", name=\"hidden_layer\"+str(i+1))(x)\n",
    "    \n",
    "    out = keras.layers.Dense(units=output_units, activation=\"softmax\", name=\"output\")(x)\n",
    "    \n",
    "    model = keras.models.Model(inputs=[input_layer], outputs=[out])\n",
    "    return model\n",
    "\n",
    "model = build_mlp(input_shape=x_train.shape[1:])\n",
    "model.summary()"
   ]
  },
  {
   "cell_type": "code",
   "execution_count": 6,
   "metadata": {},
   "outputs": [],
   "source": [
    "## 超參數設定\n",
    "LEARNING_RATE = 0.001\n",
    "EPOCHS = 100\n",
    "BATCH_SIZE = 256"
   ]
  },
  {
   "cell_type": "code",
   "execution_count": 7,
   "metadata": {},
   "outputs": [
    {
     "name": "stderr",
     "output_type": "stream",
     "text": [
      "W0809 16:55:06.011733 22712 deprecation_wrapper.py:119] From C:\\Users\\an_fl\\Anaconda3\\lib\\site-packages\\keras\\optimizers.py:790: The name tf.train.Optimizer is deprecated. Please use tf.compat.v1.train.Optimizer instead.\n",
      "\n",
      "W0809 16:55:06.022104 22712 deprecation_wrapper.py:119] From C:\\Users\\an_fl\\Anaconda3\\lib\\site-packages\\keras\\backend\\tensorflow_backend.py:3295: The name tf.log is deprecated. Please use tf.math.log instead.\n",
      "\n"
     ]
    }
   ],
   "source": [
    "optimizer = keras.optimizers.Adam(lr=LEARNING_RATE)\n",
    "model.compile(loss=\"categorical_crossentropy\", metrics=[\"accuracy\"], optimizer=optimizer)"
   ]
  },
  {
   "cell_type": "code",
   "execution_count": 8,
   "metadata": {},
   "outputs": [
    {
     "name": "stderr",
     "output_type": "stream",
     "text": [
      "W0809 16:55:07.556193 22712 deprecation.py:323] From C:\\Users\\an_fl\\Anaconda3\\lib\\site-packages\\tensorflow\\python\\ops\\math_grad.py:1250: add_dispatch_support.<locals>.wrapper (from tensorflow.python.ops.array_ops) is deprecated and will be removed in a future version.\n",
      "Instructions for updating:\n",
      "Use tf.where in 2.0, which has the same broadcast rule as np.where\n",
      "W0809 16:55:07.657872 22712 deprecation_wrapper.py:119] From C:\\Users\\an_fl\\Anaconda3\\lib\\site-packages\\keras\\backend\\tensorflow_backend.py:986: The name tf.assign_add is deprecated. Please use tf.compat.v1.assign_add instead.\n",
      "\n"
     ]
    },
    {
     "name": "stdout",
     "output_type": "stream",
     "text": [
      "Train on 50000 samples, validate on 10000 samples\n",
      "Epoch 1/100\n",
      "50000/50000 [==============================] - 9s 184us/step - loss: 1.8335 - acc: 0.3446 - val_loss: 1.6407 - val_acc: 0.4256\n",
      "Epoch 2/100\n",
      "50000/50000 [==============================] - 8s 164us/step - loss: 1.5504 - acc: 0.4544 - val_loss: 1.5181 - val_acc: 0.4637\n",
      "Epoch 3/100\n",
      "50000/50000 [==============================] - 8s 162us/step - loss: 1.4216 - acc: 0.5020 - val_loss: 1.4707 - val_acc: 0.4844\n",
      "Epoch 4/100\n",
      "50000/50000 [==============================] - 8s 162us/step - loss: 1.3259 - acc: 0.5354 - val_loss: 1.3949 - val_acc: 0.5112\n",
      "Epoch 5/100\n",
      "50000/50000 [==============================] - 8s 164us/step - loss: 1.2395 - acc: 0.5649 - val_loss: 1.4051 - val_acc: 0.5148\n",
      "Epoch 6/100\n",
      "50000/50000 [==============================] - 8s 167us/step - loss: 1.1603 - acc: 0.5945 - val_loss: 1.3712 - val_acc: 0.5285\n",
      "Epoch 7/100\n",
      "50000/50000 [==============================] - 9s 173us/step - loss: 1.0847 - acc: 0.6219 - val_loss: 1.4049 - val_acc: 0.5285\n",
      "Epoch 8/100\n",
      "50000/50000 [==============================] - 9s 176us/step - loss: 1.0096 - acc: 0.6432 - val_loss: 1.3996 - val_acc: 0.5317\n",
      "Epoch 9/100\n",
      "50000/50000 [==============================] - 9s 173us/step - loss: 0.9420 - acc: 0.6686 - val_loss: 1.4098 - val_acc: 0.5358\n",
      "Epoch 10/100\n",
      "50000/50000 [==============================] - 9s 174us/step - loss: 0.8818 - acc: 0.6905 - val_loss: 1.4391 - val_acc: 0.5432\n",
      "Epoch 11/100\n",
      "50000/50000 [==============================] - 9s 175us/step - loss: 0.8102 - acc: 0.7150 - val_loss: 1.4609 - val_acc: 0.5372\n",
      "Epoch 12/100\n",
      "50000/50000 [==============================] - 9s 177us/step - loss: 0.7475 - acc: 0.7349 - val_loss: 1.5640 - val_acc: 0.5326\n",
      "Epoch 13/100\n",
      "50000/50000 [==============================] - 9s 175us/step - loss: 0.6907 - acc: 0.7555 - val_loss: 1.5805 - val_acc: 0.5331\n",
      "Epoch 14/100\n",
      "50000/50000 [==============================] - 9s 177us/step - loss: 0.6334 - acc: 0.7742 - val_loss: 1.6147 - val_acc: 0.5408\n",
      "Epoch 15/100\n",
      "50000/50000 [==============================] - 9s 180us/step - loss: 0.5852 - acc: 0.7952 - val_loss: 1.7015 - val_acc: 0.5299\n",
      "Epoch 16/100\n",
      "50000/50000 [==============================] - 9s 179us/step - loss: 0.5375 - acc: 0.8104 - val_loss: 1.8010 - val_acc: 0.5281\n",
      "Epoch 17/100\n",
      "50000/50000 [==============================] - 9s 178us/step - loss: 0.4989 - acc: 0.8245 - val_loss: 1.8849 - val_acc: 0.5359\n",
      "Epoch 18/100\n",
      "50000/50000 [==============================] - 9s 177us/step - loss: 0.4532 - acc: 0.8395 - val_loss: 2.0175 - val_acc: 0.5267\n",
      "Epoch 19/100\n",
      "50000/50000 [==============================] - 9s 179us/step - loss: 0.4115 - acc: 0.8566 - val_loss: 2.0518 - val_acc: 0.5303\n",
      "Epoch 20/100\n",
      "50000/50000 [==============================] - 9s 184us/step - loss: 0.3929 - acc: 0.8609 - val_loss: 2.1263 - val_acc: 0.5300\n",
      "Epoch 21/100\n",
      "50000/50000 [==============================] - 9s 186us/step - loss: 0.3600 - acc: 0.8732 - val_loss: 2.3107 - val_acc: 0.5253\n",
      "Epoch 22/100\n",
      "50000/50000 [==============================] - 9s 185us/step - loss: 0.3381 - acc: 0.8811 - val_loss: 2.2423 - val_acc: 0.5337\n",
      "Epoch 23/100\n",
      "50000/50000 [==============================] - 9s 174us/step - loss: 0.3216 - acc: 0.8878 - val_loss: 2.3554 - val_acc: 0.5336\n",
      "Epoch 24/100\n",
      "50000/50000 [==============================] - 9s 179us/step - loss: 0.2933 - acc: 0.8978 - val_loss: 2.3833 - val_acc: 0.5351\n",
      "Epoch 25/100\n",
      "50000/50000 [==============================] - 9s 178us/step - loss: 0.2712 - acc: 0.9051 - val_loss: 2.5694 - val_acc: 0.5327\n",
      "Epoch 26/100\n",
      "50000/50000 [==============================] - 10s 193us/step - loss: 0.2741 - acc: 0.9067 - val_loss: 2.6017 - val_acc: 0.5166\n",
      "Epoch 27/100\n",
      "50000/50000 [==============================] - 9s 189us/step - loss: 0.2536 - acc: 0.9121 - val_loss: 2.6690 - val_acc: 0.5237\n",
      "Epoch 28/100\n",
      "50000/50000 [==============================] - 9s 189us/step - loss: 0.2275 - acc: 0.9216 - val_loss: 2.6350 - val_acc: 0.5320\n",
      "Epoch 29/100\n",
      "50000/50000 [==============================] - 9s 188us/step - loss: 0.2222 - acc: 0.9223 - val_loss: 2.7430 - val_acc: 0.5339: 0s - loss: 0.2221 - acc: 0.9\n",
      "Epoch 30/100\n",
      "50000/50000 [==============================] - 9s 188us/step - loss: 0.2204 - acc: 0.9243 - val_loss: 2.7045 - val_acc: 0.5289\n",
      "Epoch 31/100\n",
      "50000/50000 [==============================] - 10s 190us/step - loss: 0.1944 - acc: 0.9325 - val_loss: 2.8885 - val_acc: 0.5326\n",
      "Epoch 32/100\n",
      "50000/50000 [==============================] - 10s 192us/step - loss: 0.1743 - acc: 0.9397 - val_loss: 3.0184 - val_acc: 0.5218\n",
      "Epoch 33/100\n",
      "50000/50000 [==============================] - 10s 191us/step - loss: 0.2164 - acc: 0.9259 - val_loss: 3.0068 - val_acc: 0.5277\n",
      "Epoch 34/100\n",
      "50000/50000 [==============================] - 10s 194us/step - loss: 0.1794 - acc: 0.9380 - val_loss: 3.0359 - val_acc: 0.5286\n",
      "Epoch 35/100\n",
      "50000/50000 [==============================] - 10s 205us/step - loss: 0.1776 - acc: 0.9399 - val_loss: 2.9603 - val_acc: 0.5282\n",
      "Epoch 36/100\n",
      "50000/50000 [==============================] - 10s 196us/step - loss: 0.1733 - acc: 0.9419 - val_loss: 3.1616 - val_acc: 0.5338\n",
      "Epoch 37/100\n",
      "50000/50000 [==============================] - 10s 199us/step - loss: 0.1582 - acc: 0.9448 - val_loss: 3.1126 - val_acc: 0.5285\n",
      "Epoch 38/100\n",
      "50000/50000 [==============================] - 10s 201us/step - loss: 0.1476 - acc: 0.9496 - val_loss: 3.2017 - val_acc: 0.5246\n",
      "Epoch 39/100\n",
      "50000/50000 [==============================] - 10s 202us/step - loss: 0.1515 - acc: 0.9488 - val_loss: 3.1659 - val_acc: 0.5342\n",
      "Epoch 40/100\n",
      "50000/50000 [==============================] - 10s 203us/step - loss: 0.1532 - acc: 0.9490 - val_loss: 3.2188 - val_acc: 0.5250\n",
      "Epoch 41/100\n",
      "50000/50000 [==============================] - 10s 210us/step - loss: 0.1478 - acc: 0.9498 - val_loss: 3.3314 - val_acc: 0.5346\n",
      "Epoch 42/100\n",
      "50000/50000 [==============================] - 10s 200us/step - loss: 0.1398 - acc: 0.9530 - val_loss: 3.3055 - val_acc: 0.5298\n",
      "Epoch 43/100\n",
      "50000/50000 [==============================] - 10s 199us/step - loss: 0.1323 - acc: 0.9550 - val_loss: 3.4203 - val_acc: 0.5276\n",
      "Epoch 44/100\n",
      "50000/50000 [==============================] - 10s 201us/step - loss: 0.1299 - acc: 0.9570 - val_loss: 3.3752 - val_acc: 0.5321\n",
      "Epoch 45/100\n",
      "50000/50000 [==============================] - 10s 200us/step - loss: 0.1411 - acc: 0.9534 - val_loss: 3.3325 - val_acc: 0.5341\n",
      "Epoch 46/100\n",
      "50000/50000 [==============================] - 10s 203us/step - loss: 0.1361 - acc: 0.9550 - val_loss: 3.3549 - val_acc: 0.5285\n",
      "Epoch 47/100\n",
      "50000/50000 [==============================] - 10s 201us/step - loss: 0.1167 - acc: 0.9605 - val_loss: 3.5056 - val_acc: 0.5297\n",
      "Epoch 48/100\n",
      "50000/50000 [==============================] - 10s 197us/step - loss: 0.1321 - acc: 0.9555 - val_loss: 3.4128 - val_acc: 0.5338\n",
      "Epoch 49/100\n",
      "50000/50000 [==============================] - 10s 207us/step - loss: 0.1333 - acc: 0.9549 - val_loss: 3.4810 - val_acc: 0.5250\n",
      "Epoch 50/100\n",
      "50000/50000 [==============================] - 10s 208us/step - loss: 0.1438 - acc: 0.9518 - val_loss: 3.4123 - val_acc: 0.5353\n",
      "Epoch 51/100\n",
      "50000/50000 [==============================] - 10s 209us/step - loss: 0.0961 - acc: 0.9676 - val_loss: 3.5371 - val_acc: 0.5344\n",
      "Epoch 52/100\n",
      "50000/50000 [==============================] - 11s 213us/step - loss: 0.1064 - acc: 0.9634 - val_loss: 3.5295 - val_acc: 0.5363\n",
      "Epoch 53/100\n",
      "50000/50000 [==============================] - 10s 204us/step - loss: 0.1032 - acc: 0.9660 - val_loss: 3.5017 - val_acc: 0.5249\n",
      "Epoch 54/100\n",
      "50000/50000 [==============================] - 10s 202us/step - loss: 0.1168 - acc: 0.9609 - val_loss: 3.5593 - val_acc: 0.5283\n",
      "Epoch 55/100\n",
      "50000/50000 [==============================] - 10s 193us/step - loss: 0.1193 - acc: 0.9602 - val_loss: 3.5843 - val_acc: 0.5347\n",
      "Epoch 56/100\n",
      "50000/50000 [==============================] - 10s 191us/step - loss: 0.0963 - acc: 0.9678 - val_loss: 3.6123 - val_acc: 0.5385\n",
      "Epoch 57/100\n",
      "50000/50000 [==============================] - 10s 194us/step - loss: 0.0883 - acc: 0.9712 - val_loss: 3.6101 - val_acc: 0.5264\n",
      "Epoch 58/100\n",
      "50000/50000 [==============================] - 11s 218us/step - loss: 0.1147 - acc: 0.9610 - val_loss: 3.5891 - val_acc: 0.5368\n"
     ]
    },
    {
     "name": "stdout",
     "output_type": "stream",
     "text": [
      "Epoch 59/100\n",
      "50000/50000 [==============================] - 10s 201us/step - loss: 0.0995 - acc: 0.9669 - val_loss: 3.6801 - val_acc: 0.5374\n",
      "Epoch 60/100\n",
      "50000/50000 [==============================] - 10s 199us/step - loss: 0.0942 - acc: 0.9685 - val_loss: 3.6614 - val_acc: 0.5348\n",
      "Epoch 61/100\n",
      "50000/50000 [==============================] - 10s 193us/step - loss: 0.0996 - acc: 0.9674 - val_loss: 3.7174 - val_acc: 0.5311\n",
      "Epoch 62/100\n",
      "50000/50000 [==============================] - 10s 204us/step - loss: 0.0918 - acc: 0.9694 - val_loss: 3.7306 - val_acc: 0.5330\n",
      "Epoch 63/100\n",
      "50000/50000 [==============================] - 10s 206us/step - loss: 0.1140 - acc: 0.9615 - val_loss: 3.6649 - val_acc: 0.5304\n",
      "Epoch 64/100\n",
      "50000/50000 [==============================] - 10s 204us/step - loss: 0.0939 - acc: 0.9686 - val_loss: 3.7126 - val_acc: 0.5325\n",
      "Epoch 65/100\n",
      "50000/50000 [==============================] - 10s 208us/step - loss: 0.0778 - acc: 0.9744 - val_loss: 3.7879 - val_acc: 0.5299\n",
      "Epoch 66/100\n",
      "50000/50000 [==============================] - 10s 191us/step - loss: 0.0973 - acc: 0.9692 - val_loss: 3.7177 - val_acc: 0.5292\n",
      "Epoch 67/100\n",
      "50000/50000 [==============================] - 9s 183us/step - loss: 0.1013 - acc: 0.9674 - val_loss: 3.7130 - val_acc: 0.5230\n",
      "Epoch 68/100\n",
      "50000/50000 [==============================] - 9s 185us/step - loss: 0.0814 - acc: 0.9733 - val_loss: 3.8637 - val_acc: 0.5311\n",
      "Epoch 69/100\n",
      "50000/50000 [==============================] - 9s 183us/step - loss: 0.0969 - acc: 0.9686 - val_loss: 3.6029 - val_acc: 0.5345\n",
      "Epoch 70/100\n",
      "50000/50000 [==============================] - 9s 182us/step - loss: 0.0880 - acc: 0.9712 - val_loss: 3.6524 - val_acc: 0.5210\n",
      "Epoch 71/100\n",
      "50000/50000 [==============================] - 10s 190us/step - loss: 0.0876 - acc: 0.9716 - val_loss: 3.7268 - val_acc: 0.5287\n",
      "Epoch 72/100\n",
      "50000/50000 [==============================] - 9s 190us/step - loss: 0.0878 - acc: 0.9716 - val_loss: 3.7054 - val_acc: 0.5334\n",
      "Epoch 73/100\n",
      "50000/50000 [==============================] - 9s 186us/step - loss: 0.0923 - acc: 0.9700 - val_loss: 3.6806 - val_acc: 0.5342\n",
      "Epoch 74/100\n",
      "50000/50000 [==============================] - 9s 185us/step - loss: 0.0659 - acc: 0.9787 - val_loss: 3.8217 - val_acc: 0.5325\n",
      "Epoch 75/100\n",
      "50000/50000 [==============================] - 9s 189us/step - loss: 0.0774 - acc: 0.9747 - val_loss: 3.7482 - val_acc: 0.5297\n",
      "Epoch 76/100\n",
      "50000/50000 [==============================] - 9s 185us/step - loss: 0.0870 - acc: 0.9715 - val_loss: 3.7250 - val_acc: 0.5355\n",
      "Epoch 77/100\n",
      "50000/50000 [==============================] - 10s 192us/step - loss: 0.0819 - acc: 0.9727 - val_loss: 3.8780 - val_acc: 0.5367\n",
      "Epoch 78/100\n",
      "50000/50000 [==============================] - 9s 184us/step - loss: 0.1088 - acc: 0.9651 - val_loss: 3.6861 - val_acc: 0.5297\n",
      "Epoch 79/100\n",
      "50000/50000 [==============================] - 9s 183us/step - loss: 0.0801 - acc: 0.9738 - val_loss: 3.7496 - val_acc: 0.5389\n",
      "Epoch 80/100\n",
      "50000/50000 [==============================] - 9s 189us/step - loss: 0.0696 - acc: 0.9770 - val_loss: 3.8561 - val_acc: 0.5287\n",
      "Epoch 81/100\n",
      "50000/50000 [==============================] - 9s 185us/step - loss: 0.0518 - acc: 0.9830 - val_loss: 3.9600 - val_acc: 0.5330\n",
      "Epoch 82/100\n",
      "50000/50000 [==============================] - 10s 191us/step - loss: 0.0801 - acc: 0.9747 - val_loss: 3.9043 - val_acc: 0.5226\n",
      "Epoch 83/100\n",
      "50000/50000 [==============================] - 9s 188us/step - loss: 0.0891 - acc: 0.9714 - val_loss: 3.7283 - val_acc: 0.5250\n",
      "Epoch 84/100\n",
      "50000/50000 [==============================] - 9s 187us/step - loss: 0.0766 - acc: 0.9742 - val_loss: 3.8325 - val_acc: 0.5342\n",
      "Epoch 85/100\n",
      "50000/50000 [==============================] - 10s 200us/step - loss: 0.0800 - acc: 0.9740 - val_loss: 3.8583 - val_acc: 0.5238\n",
      "Epoch 86/100\n",
      "50000/50000 [==============================] - 11s 212us/step - loss: 0.0574 - acc: 0.9814 - val_loss: 3.9629 - val_acc: 0.5297\n",
      "Epoch 87/100\n",
      "50000/50000 [==============================] - 10s 194us/step - loss: 0.0676 - acc: 0.9773 - val_loss: 3.9532 - val_acc: 0.5283\n",
      "Epoch 88/100\n",
      "50000/50000 [==============================] - 10s 194us/step - loss: 0.0951 - acc: 0.9694 - val_loss: 3.7622 - val_acc: 0.5316\n",
      "Epoch 89/100\n",
      "50000/50000 [==============================] - 9s 186us/step - loss: 0.0618 - acc: 0.9795 - val_loss: 3.9094 - val_acc: 0.5316\n",
      "Epoch 90/100\n",
      "50000/50000 [==============================] - 10s 193us/step - loss: 0.0618 - acc: 0.9793 - val_loss: 3.8954 - val_acc: 0.5415\n",
      "Epoch 91/100\n",
      "50000/50000 [==============================] - 9s 187us/step - loss: 0.0764 - acc: 0.9755 - val_loss: 3.8904 - val_acc: 0.5294\n",
      "Epoch 92/100\n",
      "50000/50000 [==============================] - 9s 186us/step - loss: 0.0761 - acc: 0.9759 - val_loss: 3.7903 - val_acc: 0.5356\n",
      "Epoch 93/100\n",
      "50000/50000 [==============================] - 9s 183us/step - loss: 0.0533 - acc: 0.9824 - val_loss: 3.9253 - val_acc: 0.5382\n",
      "Epoch 94/100\n",
      "50000/50000 [==============================] - 9s 189us/step - loss: 0.0823 - acc: 0.9740 - val_loss: 3.7930 - val_acc: 0.5278\n",
      "Epoch 95/100\n",
      "50000/50000 [==============================] - 9s 186us/step - loss: 0.0617 - acc: 0.9805 - val_loss: 3.8937 - val_acc: 0.5405\n",
      "Epoch 96/100\n",
      "50000/50000 [==============================] - 9s 188us/step - loss: 0.0559 - acc: 0.9821 - val_loss: 3.9434 - val_acc: 0.5321\n",
      "Epoch 97/100\n",
      "50000/50000 [==============================] - 10s 200us/step - loss: 0.0635 - acc: 0.9793 - val_loss: 3.8914 - val_acc: 0.5304\n",
      "Epoch 98/100\n",
      "50000/50000 [==============================] - 10s 190us/step - loss: 0.0636 - acc: 0.9799 - val_loss: 3.8272 - val_acc: 0.5315\n",
      "Epoch 99/100\n",
      "50000/50000 [==============================] - 9s 190us/step - loss: 0.0834 - acc: 0.9730 - val_loss: 3.9906 - val_acc: 0.5339\n",
      "Epoch 100/100\n",
      "50000/50000 [==============================] - 10s 190us/step - loss: 0.0602 - acc: 0.9808 - val_loss: 3.9184 - val_acc: 0.5331\n"
     ]
    },
    {
     "data": {
      "text/plain": [
       "<keras.callbacks.History at 0x23ae65c8400>"
      ]
     },
     "execution_count": 8,
     "metadata": {},
     "output_type": "execute_result"
    }
   ],
   "source": [
    "model.fit(x_train, y_train, \n",
    "          epochs=EPOCHS, \n",
    "          batch_size=BATCH_SIZE, \n",
    "          validation_data=(x_test, y_test), \n",
    "          shuffle=True)"
   ]
  },
  {
   "cell_type": "code",
   "execution_count": 10,
   "metadata": {},
   "outputs": [
    {
     "data": {
      "image/png": "[encoded data removed]",
      "text/plain": [
       "<Figure size 432x288 with 1 Axes>"
      ]
     },
     "metadata": {
      "needs_background": "light"
     },
     "output_type": "display_data"
    },
    {
     "data": {
      "image/png": "[encoded data removed]",
      "text/plain": [
       "<Figure size 432x288 with 1 Axes>"
      ]
     },
     "metadata": {
      "needs_background": "light"
     },
     "output_type": "display_data"
    }
   ],
   "source": [
    "import matplotlib.pyplot as plt\n",
    "\n",
    "\n",
    "train_loss = model.history.history[\"loss\"]\n",
    "valid_loss = model.history.history[\"val_loss\"]\n",
    "\n",
    "train_acc = model.history.history[\"acc\"]\n",
    "valid_acc = model.history.history[\"val_acc\"]\n",
    "\n",
    "plt.plot(range(len(train_loss)), train_loss, label=\"train loss\")\n",
    "plt.plot(range(len(valid_loss)), valid_loss, label=\"valid loss\")\n",
    "plt.legend()\n",
    "plt.title(\"Loss\")\n",
    "plt.show()\n",
    "\n",
    "plt.plot(range(len(train_acc)), train_acc, label=\"train accuracy\")\n",
    "plt.plot(range(len(valid_acc)), valid_acc, label=\"valid accuracy\")\n",
    "plt.legend()\n",
    "plt.title(\"Accuracy\")\n",
    "plt.show()"
   ]
  },
  {
   "cell_type": "code",
   "execution_count": null,
   "metadata": {},
   "outputs": [],
   "source": []
  }
 ],
 "metadata": {
  "kernelspec": {
   "display_name": "Python 3",
   "language": "python",
   "name": "python3"
  },
  "language_info": {
   "codemirror_mode": {
    "name": "ipython",
    "version": 3
   },
   "file_extension": ".py",
   "mimetype": "text/x-python",
   "name": "python",
   "nbconvert_exporter": "python",
   "pygments_lexer": "ipython3",
   "version": "3.7.3"
  }
 },
 "nbformat": 4,
 "nbformat_minor": 2
}
