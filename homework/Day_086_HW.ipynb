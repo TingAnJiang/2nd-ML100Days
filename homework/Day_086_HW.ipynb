{
 "cells": [
  {
   "cell_type": "markdown",
   "metadata": {},
   "source": [
    "## Work\n",
    "1. 試比較 save_best_only 與否的差異\n",
    "2. 請僅存入將 save_weights_only 設定為 True, 並嘗試 reset ipynb 並將模型與權重重新建回並預測 x_test"
   ]
  },
  {
   "cell_type": "code",
   "execution_count": 1,
   "metadata": {},
   "outputs": [
    {
     "name": "stderr",
     "output_type": "stream",
     "text": [
      "Using TensorFlow backend.\n"
     ]
    }
   ],
   "source": [
    "import os\n",
    "import keras\n",
    "\n",
    "# Disable GPU\n",
    "#os.environ[\"CUDA_VISIBLE_DEVICES\"] = \"\""
   ]
  },
  {
   "cell_type": "code",
   "execution_count": 2,
   "metadata": {},
   "outputs": [],
   "source": [
    "train, test = keras.datasets.cifar10.load_data()"
   ]
  },
  {
   "cell_type": "code",
   "execution_count": 3,
   "metadata": {},
   "outputs": [],
   "source": [
    "## 資料前處理\n",
    "def preproc_x(x, flatten=True):\n",
    "    x = x / 255.\n",
    "    if flatten:\n",
    "        x = x.reshape((len(x), -1))\n",
    "    return x\n",
    "\n",
    "def preproc_y(y, num_classes=10):\n",
    "    if y.shape[-1] == 1:\n",
    "        y = keras.utils.to_categorical(y, num_classes)\n",
    "    return y    "
   ]
  },
  {
   "cell_type": "code",
   "execution_count": 4,
   "metadata": {},
   "outputs": [],
   "source": [
    "x_train, y_train = train\n",
    "x_test, y_test = test\n",
    "\n",
    "# Preproc the inputs\n",
    "x_train = preproc_x(x_train)\n",
    "x_test = preproc_x(x_test)\n",
    "\n",
    "# Preprc the outputs\n",
    "y_train = preproc_y(y_train)\n",
    "y_test = preproc_y(y_test)"
   ]
  },
  {
   "cell_type": "code",
   "execution_count": 5,
   "metadata": {},
   "outputs": [],
   "source": [
    "from keras.layers import BatchNormalization\n",
    "\n",
    "\"\"\"\n",
    "建立神經網路，並加入 BN layer\n",
    "\"\"\"\n",
    "def build_mlp(input_shape, output_units=10, num_neurons=[512, 256, 128]):\n",
    "    input_layer = keras.layers.Input(input_shape)\n",
    "    \n",
    "    for i, n_units in enumerate(num_neurons):\n",
    "        if i == 0:\n",
    "            x = keras.layers.Dense(units=n_units, \n",
    "                                   activation=\"relu\", \n",
    "                                   name=\"hidden_layer\"+str(i+1))(input_layer)\n",
    "            x = BatchNormalization()(x)\n",
    "        else:\n",
    "            x = keras.layers.Dense(units=n_units, \n",
    "                                   activation=\"relu\", \n",
    "                                   name=\"hidden_layer\"+str(i+1))(x)\n",
    "            x = BatchNormalization()(x)\n",
    "    \n",
    "    out = keras.layers.Dense(units=output_units, activation=\"softmax\", name=\"output\")(x)\n",
    "    \n",
    "    model = keras.models.Model(inputs=[input_layer], outputs=[out])\n",
    "    return model"
   ]
  },
  {
   "cell_type": "code",
   "execution_count": 6,
   "metadata": {},
   "outputs": [],
   "source": [
    "## 超參數設定\n",
    "LEARNING_RATE = 1e-3\n",
    "EPOCHS = 50\n",
    "BATCH_SIZE = 1024\n",
    "MOMENTUM = 0.95"
   ]
  },
  {
   "cell_type": "code",
   "execution_count": 7,
   "metadata": {},
   "outputs": [
    {
     "name": "stderr",
     "output_type": "stream",
     "text": [
      "WARNING: Logging before flag parsing goes to stderr.\n",
      "W0901 16:23:25.442612  4548 deprecation_wrapper.py:119] From C:\\Users\\an_fl\\Anaconda3\\lib\\site-packages\\keras\\backend\\tensorflow_backend.py:74: The name tf.get_default_graph is deprecated. Please use tf.compat.v1.get_default_graph instead.\n",
      "\n",
      "W0901 16:23:25.465587  4548 deprecation_wrapper.py:119] From C:\\Users\\an_fl\\Anaconda3\\lib\\site-packages\\keras\\backend\\tensorflow_backend.py:517: The name tf.placeholder is deprecated. Please use tf.compat.v1.placeholder instead.\n",
      "\n",
      "W0901 16:23:25.471535  4548 deprecation_wrapper.py:119] From C:\\Users\\an_fl\\Anaconda3\\lib\\site-packages\\keras\\backend\\tensorflow_backend.py:4138: The name tf.random_uniform is deprecated. Please use tf.random.uniform instead.\n",
      "\n",
      "W0901 16:23:25.591216  4548 deprecation_wrapper.py:119] From C:\\Users\\an_fl\\Anaconda3\\lib\\site-packages\\keras\\backend\\tensorflow_backend.py:133: The name tf.placeholder_with_default is deprecated. Please use tf.compat.v1.placeholder_with_default instead.\n",
      "\n",
      "W0901 16:23:25.963220  4548 deprecation_wrapper.py:119] From C:\\Users\\an_fl\\Anaconda3\\lib\\site-packages\\keras\\optimizers.py:790: The name tf.train.Optimizer is deprecated. Please use tf.compat.v1.train.Optimizer instead.\n",
      "\n",
      "W0901 16:23:25.973193  4548 deprecation_wrapper.py:119] From C:\\Users\\an_fl\\Anaconda3\\lib\\site-packages\\keras\\backend\\tensorflow_backend.py:3295: The name tf.log is deprecated. Please use tf.math.log instead.\n",
      "\n",
      "W0901 16:23:26.122833  4548 deprecation.py:323] From C:\\Users\\an_fl\\Anaconda3\\lib\\site-packages\\tensorflow\\python\\ops\\math_grad.py:1250: add_dispatch_support.<locals>.wrapper (from tensorflow.python.ops.array_ops) is deprecated and will be removed in a future version.\n",
      "Instructions for updating:\n",
      "Use tf.where in 2.0, which has the same broadcast rule as np.where\n"
     ]
    },
    {
     "name": "stdout",
     "output_type": "stream",
     "text": [
      "_________________________________________________________________\n",
      "Layer (type)                 Output Shape              Param #   \n",
      "=================================================================\n",
      "input_1 (InputLayer)         (None, 3072)              0         \n",
      "_________________________________________________________________\n",
      "hidden_layer1 (Dense)        (None, 512)               1573376   \n",
      "_________________________________________________________________\n",
      "batch_normalization_1 (Batch (None, 512)               2048      \n",
      "_________________________________________________________________\n",
      "hidden_layer2 (Dense)        (None, 256)               131328    \n",
      "_________________________________________________________________\n",
      "batch_normalization_2 (Batch (None, 256)               1024      \n",
      "_________________________________________________________________\n",
      "hidden_layer3 (Dense)        (None, 128)               32896     \n",
      "_________________________________________________________________\n",
      "batch_normalization_3 (Batch (None, 128)               512       \n",
      "_________________________________________________________________\n",
      "output (Dense)               (None, 10)                1290      \n",
      "=================================================================\n",
      "Total params: 1,742,474\n",
      "Trainable params: 1,740,682\n",
      "Non-trainable params: 1,792\n",
      "_________________________________________________________________\n",
      "Train on 50000 samples, validate on 10000 samples\n",
      "Epoch 1/50\n",
      "50000/50000 [==============================] - 12s 236us/step - loss: 2.1906 - acc: 0.2696 - val_loss: 2.1104 - val_acc: 0.3160\n",
      "Epoch 2/50\n",
      "50000/50000 [==============================] - 10s 204us/step - loss: 1.7375 - acc: 0.3907 - val_loss: 1.7987 - val_acc: 0.3803\n",
      "Epoch 3/50\n",
      "50000/50000 [==============================] - 10s 198us/step - loss: 1.6168 - acc: 0.4314 - val_loss: 1.7163 - val_acc: 0.39506239 - \n",
      "Epoch 4/50\n",
      "50000/50000 [==============================] - 10s 204us/step - loss: 1.5445 - acc: 0.4566 - val_loss: 1.6434 - val_acc: 0.4166\n",
      "Epoch 5/50\n",
      "50000/50000 [==============================] - 11s 213us/step - loss: 1.4893 - acc: 0.4775 - val_loss: 1.5948 - val_acc: 0.4368\n",
      "Epoch 6/50\n",
      "50000/50000 [==============================] - 10s 202us/step - loss: 1.4452 - acc: 0.4923 - val_loss: 1.5701 - val_acc: 0.4441\n",
      "Epoch 7/50\n",
      "50000/50000 [==============================] - 10s 207us/step - loss: 1.4065 - acc: 0.5070 - val_loss: 1.5538 - val_acc: 0.4490oss: 1.4101 \n",
      "Epoch 8/50\n",
      "50000/50000 [==============================] - 10s 202us/step - loss: 1.3697 - acc: 0.5224 - val_loss: 1.5385 - val_acc: 0.4599\n",
      "Epoch 9/50\n",
      "50000/50000 [==============================] - 10s 203us/step - loss: 1.3371 - acc: 0.5302 - val_loss: 1.5123 - val_acc: 0.4669\n",
      "Epoch 10/50\n",
      "50000/50000 [==============================] - 10s 198us/step - loss: 1.3085 - acc: 0.5426 - val_loss: 1.5029 - val_acc: 0.4697\n",
      "Epoch 11/50\n",
      "50000/50000 [==============================] - 10s 206us/step - loss: 1.2808 - acc: 0.5526 - val_loss: 1.4944 - val_acc: 0.4763\n",
      "Epoch 12/50\n",
      "50000/50000 [==============================] - 10s 206us/step - loss: 1.2522 - acc: 0.5639 - val_loss: 1.5014 - val_acc: 0.4737\n",
      "Epoch 13/50\n",
      "50000/50000 [==============================] - 10s 199us/step - loss: 1.2263 - acc: 0.5733 - val_loss: 1.4829 - val_acc: 0.4719\n",
      "Epoch 14/50\n",
      "50000/50000 [==============================] - 10s 196us/step - loss: 1.2026 - acc: 0.5810 - val_loss: 1.4718 - val_acc: 0.4837\n",
      "Epoch 15/50\n",
      "50000/50000 [==============================] - 10s 200us/step - loss: 1.1787 - acc: 0.5900 - val_loss: 1.4651 - val_acc: 0.4858\n",
      "Epoch 16/50\n",
      "50000/50000 [==============================] - 10s 200us/step - loss: 1.1545 - acc: 0.6011 - val_loss: 1.4716 - val_acc: 0.4881\n",
      "Epoch 17/50\n",
      "50000/50000 [==============================] - 10s 198us/step - loss: 1.1327 - acc: 0.6084 - val_loss: 1.4687 - val_acc: 0.4865\n",
      "Epoch 18/50\n",
      "50000/50000 [==============================] - 10s 206us/step - loss: 1.1090 - acc: 0.6175 - val_loss: 1.4578 - val_acc: 0.4902\n",
      "Epoch 19/50\n",
      "50000/50000 [==============================] - 10s 208us/step - loss: 1.0870 - acc: 0.6267 - val_loss: 1.4536 - val_acc: 0.4933\n",
      "Epoch 20/50\n",
      "50000/50000 [==============================] - 10s 203us/step - loss: 1.0647 - acc: 0.6357 - val_loss: 1.4601 - val_acc: 0.4911\n",
      "Epoch 21/50\n",
      "50000/50000 [==============================] - 10s 197us/step - loss: 1.0430 - acc: 0.6443 - val_loss: 1.4577 - val_acc: 0.4935\n",
      "Epoch 22/50\n",
      "50000/50000 [==============================] - 10s 199us/step - loss: 1.0231 - acc: 0.6504 - val_loss: 1.4585 - val_acc: 0.4943\n",
      "Epoch 23/50\n",
      "50000/50000 [==============================] - 11s 214us/step - loss: 1.0026 - acc: 0.6599 - val_loss: 1.4632 - val_acc: 0.4959\n",
      "Epoch 24/50\n",
      "50000/50000 [==============================] - 10s 209us/step - loss: 0.9813 - acc: 0.6673 - val_loss: 1.4719 - val_acc: 0.4974 loss: 0.9784 - acc: 0.6 - ETA: 2s - loss: 0.9788 - - ETA: 0s - loss: 0.9816 - acc: 0.66\n",
      "Epoch 25/50\n",
      "50000/50000 [==============================] - 10s 200us/step - loss: 0.9601 - acc: 0.6763 - val_loss: 1.4729 - val_acc: 0.4924\n",
      "Epoch 26/50\n",
      "50000/50000 [==============================] - 11s 222us/step - loss: 0.9395 - acc: 0.6827 - val_loss: 1.4542 - val_acc: 0.5008\n",
      "Epoch 27/50\n",
      "50000/50000 [==============================] - 11s 224us/step - loss: 0.9201 - acc: 0.6923 - val_loss: 1.4738 - val_acc: 0.4970\n",
      "Epoch 28/50\n",
      "50000/50000 [==============================] - 10s 196us/step - loss: 0.8979 - acc: 0.7002 - val_loss: 1.4831 - val_acc: 0.4988\n",
      "Epoch 29/50\n",
      "50000/50000 [==============================] - 10s 192us/step - loss: 0.8795 - acc: 0.7065 - val_loss: 1.4823 - val_acc: 0.4978\n",
      "Epoch 30/50\n",
      "50000/50000 [==============================] - 12s 232us/step - loss: 0.8597 - acc: 0.7158 - val_loss: 1.4982 - val_acc: 0.4992\n",
      "Epoch 31/50\n",
      "50000/50000 [==============================] - 11s 226us/step - loss: 0.8389 - acc: 0.7243 - val_loss: 1.4913 - val_acc: 0.5021\n",
      "Epoch 32/50\n",
      "50000/50000 [==============================] - 10s 197us/step - loss: 0.8185 - acc: 0.7315 - val_loss: 1.5029 - val_acc: 0.4953\n",
      "Epoch 33/50\n",
      "50000/50000 [==============================] - 10s 193us/step - loss: 0.7998 - acc: 0.7391 - val_loss: 1.5134 - val_acc: 0.4959\n",
      "Epoch 34/50\n",
      "50000/50000 [==============================] - 10s 193us/step - loss: 0.7808 - acc: 0.7467 - val_loss: 1.5326 - val_acc: 0.4969\n",
      "Epoch 35/50\n",
      "50000/50000 [==============================] - 10s 193us/step - loss: 0.7619 - acc: 0.7538 - val_loss: 1.5192 - val_acc: 0.4907\n",
      "Epoch 36/50\n",
      "50000/50000 [==============================] - 10s 192us/step - loss: 0.7443 - acc: 0.7597 - val_loss: 1.5460 - val_acc: 0.4986\n",
      "Epoch 37/50\n",
      "50000/50000 [==============================] - 11s 212us/step - loss: 0.7235 - acc: 0.7705 - val_loss: 1.5387 - val_acc: 0.4948\n",
      "Epoch 38/50\n",
      "50000/50000 [==============================] - 12s 233us/step - loss: 0.7086 - acc: 0.7733 - val_loss: 1.5433 - val_acc: 0.4945\n",
      "Epoch 39/50\n",
      "50000/50000 [==============================] - 10s 195us/step - loss: 0.6870 - acc: 0.7845 - val_loss: 1.5476 - val_acc: 0.4980\n",
      "Epoch 40/50\n",
      "50000/50000 [==============================] - 10s 203us/step - loss: 0.6690 - acc: 0.7910 - val_loss: 1.5591 - val_acc: 0.4941\n",
      "Epoch 41/50\n",
      "50000/50000 [==============================] - 11s 224us/step - loss: 0.6519 - acc: 0.7975 - val_loss: 1.5693 - val_acc: 0.4926\n",
      "Epoch 42/50\n",
      "50000/50000 [==============================] - 11s 214us/step - loss: 0.6336 - acc: 0.8046 - val_loss: 1.5817 - val_acc: 0.4919\n",
      "Epoch 43/50\n",
      "50000/50000 [==============================] - 10s 204us/step - loss: 0.6148 - acc: 0.8133 - val_loss: 1.6053 - val_acc: 0.4941\n",
      "Epoch 44/50\n",
      "50000/50000 [==============================] - 10s 199us/step - loss: 0.5972 - acc: 0.8188 - val_loss: 1.6116 - val_acc: 0.4899\n",
      "Epoch 45/50\n",
      "50000/50000 [==============================] - 10s 201us/step - loss: 0.5785 - acc: 0.8282 - val_loss: 1.6054 - val_acc: 0.4929\n",
      "Epoch 46/50\n",
      "50000/50000 [==============================] - 9s 190us/step - loss: 0.5624 - acc: 0.8334 - val_loss: 1.6275 - val_acc: 0.4943\n",
      "Epoch 47/50\n",
      "50000/50000 [==============================] - 10s 191us/step - loss: 0.5449 - acc: 0.8405 - val_loss: 1.6557 - val_acc: 0.4931\n",
      "Epoch 48/50\n"
     ]
    },
    {
     "name": "stdout",
     "output_type": "stream",
     "text": [
      "50000/50000 [==============================] - 10s 191us/step - loss: 0.5276 - acc: 0.8476 - val_loss: 1.6315 - val_acc: 0.4954\n",
      "Epoch 49/50\n",
      "50000/50000 [==============================] - 10s 192us/step - loss: 0.5110 - acc: 0.8540 - val_loss: 1.6734 - val_acc: 0.4947acc: 0.854\n",
      "Epoch 50/50\n",
      "50000/50000 [==============================] - 10s 193us/step - loss: 0.4954 - acc: 0.8608 - val_loss: 1.7028 - val_acc: 0.48850s - loss: 0.4951 - acc: 0.86\n",
      "10000/10000 [==============================] - 1s 112us/step\n"
     ]
    }
   ],
   "source": [
    "# 載入 Callbacks\n",
    "\"\"\"Code Here\n",
    "設定 callbacks: model checkpoint\n",
    "\"\"\"\n",
    "from keras.callbacks import ModelCheckpoint\n",
    "\n",
    "model_ckpt = ModelCheckpoint(filepath=\"./tmp.h5\", \n",
    "                             monitor=\"val_loss\", \n",
    "                             save_best_only=True)\n",
    "\n",
    "\n",
    "model = build_mlp(input_shape=x_train.shape[1:])\n",
    "model.summary()\n",
    "optimizer = keras.optimizers.SGD(lr=LEARNING_RATE, nesterov=True, momentum=MOMENTUM)\n",
    "model.compile(loss=\"categorical_crossentropy\", metrics=[\"accuracy\"], optimizer=optimizer)\n",
    "\n",
    "model.fit(x_train, y_train, \n",
    "          epochs=EPOCHS, \n",
    "          batch_size=BATCH_SIZE, \n",
    "          validation_data=(x_test, y_test), \n",
    "          shuffle=True,\n",
    "          callbacks=[model_ckpt]\n",
    "         )\n",
    "\n",
    "# Collect results\n",
    "train_loss = model.history.history[\"loss\"]\n",
    "valid_loss = model.history.history[\"val_loss\"]\n",
    "train_acc = model.history.history[\"acc\"]\n",
    "valid_acc = model.history.history[\"val_acc\"]\n",
    "\n",
    "# Load back\n",
    "model = keras.models.load_model(\"./tmp.h5\")\n",
    "loss_loadback, acc_loadback = model.evaluate(x_test, y_test)"
   ]
  },
  {
   "cell_type": "code",
   "execution_count": 8,
   "metadata": {
    "scrolled": true
   },
   "outputs": [
    {
     "data": {
      "image/png": "[encoded data removed]",
      "text/plain": [
       "<Figure size 432x288 with 1 Axes>"
      ]
     },
     "metadata": {
      "needs_background": "light"
     },
     "output_type": "display_data"
    },
    {
     "data": {
      "image/png": "[encoded data removed]",
      "text/plain": [
       "<Figure size 432x288 with 1 Axes>"
      ]
     },
     "metadata": {
      "needs_background": "light"
     },
     "output_type": "display_data"
    }
   ],
   "source": [
    "import matplotlib.pyplot as plt\n",
    "%matplotlib inline\n",
    "\n",
    "plt.plot(range(len(train_loss)), train_loss, label=\"train loss\")\n",
    "plt.plot(range(len(valid_loss)), valid_loss, label=\"valid loss\")\n",
    "plt.hlines(y=loss_loadback, xmin=0, xmax=len(train_loss), colors='r', linestyles='--')\n",
    "plt.legend()\n",
    "plt.title(\"Loss\")\n",
    "plt.show()\n",
    "\n",
    "plt.plot(range(len(train_acc)), train_acc, label=\"train accuracy\")\n",
    "plt.plot(range(len(valid_acc)), valid_acc, label=\"valid accuracy\")\n",
    "plt.hlines(y=acc_loadback, xmin=0, xmax=len(train_loss), colors='r', linestyles='--')\n",
    "plt.legend()\n",
    "plt.title(\"Accuracy\")\n",
    "plt.show()"
   ]
  },
  {
   "cell_type": "code",
   "execution_count": null,
   "metadata": {},
   "outputs": [],
   "source": []
  }
 ],
 "metadata": {
  "kernelspec": {
   "display_name": "Python 3",
   "language": "python",
   "name": "python3"
  },
  "language_info": {
   "codemirror_mode": {
    "name": "ipython",
    "version": 3
   },
   "file_extension": ".py",
   "mimetype": "text/x-python",
   "name": "python",
   "nbconvert_exporter": "python",
   "pygments_lexer": "ipython3",
   "version": "3.7.3"
  }
 },
 "nbformat": 4,
 "nbformat_minor": 2
}
